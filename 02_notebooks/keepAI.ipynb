{
 "cells": [
  {
   "cell_type": "code",
   "execution_count": 1,
   "id": "711689f6-89aa-415e-9265-a1eb241afac9",
   "metadata": {},
   "outputs": [
    {
     "name": "stdout",
     "output_type": "stream",
     "text": [
      "Meu primeiro notebook!\n"
     ]
    }
   ],
   "source": [
    "print(\"Meu primeiro notebook!\")"
   ]
  },
  {
   "cell_type": "code",
   "execution_count": 25,
   "id": "14111168-e8a7-4658-8ec9-1b7050b4ce6c",
   "metadata": {},
   "outputs": [
    {
     "name": "stdout",
     "output_type": "stream",
     "text": [
      "✅ Conexão com Supabase estabelecida\n"
     ]
    },
    {
     "name": "stderr",
     "output_type": "stream",
     "text": [
      "2024-12-24 05:09:02,423 - httpx - INFO - HTTP Request: POST https://uaxnbpzamzxradpmccse.supabase.co/rest/v1/notes \"HTTP/2 400 Bad Request\"\n",
      "2024-12-24 05:09:02,427 - server.modules.notes_manager - ERROR - Erro ao criar nota: {'code': '23502', 'details': 'Failing row contains (e26d563c-0c64-40ee-ae92-fdf8a93425c8, null, 123, Esta é uma nota de teste criada via Jupyter Notebook!, 2024-12-24 08:09:02.411893+00, 2024-12-24 08:09:02.411893+00).', 'hint': None, 'message': 'null value in column \"user_id\" of relation \"notes\" violates not-null constraint'}\n",
      "2024-12-24 05:09:02,493 - httpx - INFO - HTTP Request: GET https://uaxnbpzamzxradpmccse.supabase.co/rest/v1/notes?select=%2A \"HTTP/2 200 OK\"\n"
     ]
    },
    {
     "name": "stdout",
     "output_type": "stream",
     "text": [
      "\n",
      "Nota criada: {'success': False, 'error': '{\\'code\\': \\'23502\\', \\'details\\': \\'Failing row contains (e26d563c-0c64-40ee-ae92-fdf8a93425c8, null, 123, Esta é uma nota de teste criada via Jupyter Notebook!, 2024-12-24 08:09:02.411893+00, 2024-12-24 08:09:02.411893+00).\\', \\'hint\\': None, \\'message\\': \\'null value in column \"user_id\" of relation \"notes\" violates not-null constraint\\'}'}\n"
     ]
    }
   ],
   "source": [
    "# Testando a nova estrutura da tabela\n",
    "import pandas as pd\n",
    "from server.modules.notes_manager import NotesManager\n",
    "from server.config.supabase import get_supabase_client\n",
    "\n",
    "# Inicializando\n",
    "client = get_supabase_client()\n",
    "notes_manager = NotesManager()\n",
    "\n",
    "if client:\n",
    "    print(\"✅ Conexão com Supabase estabelecida\")\n",
    "    \n",
    "    # Definindo as variáveis primeiro\n",
    "    user_id = \"123\"\n",
    "    content = \"Esta é uma nota de teste criada via Jupyter Notebook!\"\n",
    "    \n",
    "    # Criando a nota usando as variáveis (sem título)\n",
    "    test_note = notes_manager.create_note(user_id, content)\n",
    "    \n",
    "    print(\"\\nNota criada:\", test_note)\n",
    "\n",
    "    # Buscando todas as notas para verificar\n",
    "    notas = notes_manager.get_note()\n",
    "    if notas:\n",
    "        df = pd.DataFrame(notas)\n",
    "        print(\"\\nEstatísticas das notas:\")\n",
    "        print(f\"Total de notas: {len(df)}\")\n",
    "        print(f\"\\nNotas mais recentes primeiro:\")\n",
    "        print(df[['user_id', 'content', 'created_at']].sort_values('created_at', ascending=False).head())"
   ]
  },
  {
   "cell_type": "code",
   "execution_count": null,
   "id": "58b16725-5fce-431c-81c8-cdec71a7073d",
   "metadata": {},
   "outputs": [],
   "source": []
  },
  {
   "cell_type": "code",
   "execution_count": null,
   "id": "b075272d-5f16-4da5-b36c-3791acf36ce5",
   "metadata": {},
   "outputs": [],
   "source": []
  }
 ],
 "metadata": {
  "kernelspec": {
   "display_name": "Python 3 (ipykernel)",
   "language": "python",
   "name": "python3"
  },
  "language_info": {
   "codemirror_mode": {
    "name": "ipython",
    "version": 3
   },
   "file_extension": ".py",
   "mimetype": "text/x-python",
   "name": "python",
   "nbconvert_exporter": "python",
   "pygments_lexer": "ipython3",
   "version": "3.12.5"
  }
 },
 "nbformat": 4,
 "nbformat_minor": 5
}
